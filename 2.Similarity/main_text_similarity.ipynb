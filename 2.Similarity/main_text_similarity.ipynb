{
 "cells": [
  {
   "cell_type": "markdown",
   "metadata": {},
   "source": [
    "# **Benchmark Text Similarity**\n",
    "\n",
    "Author : Bayu Aditya\n",
    "\n",
    "**Source :**\n",
    "\n",
    "1. Levensthein Distance : https://www.cuelogic.com/blog/the-levenshtein-algorithm\n",
    "2. Sequence Matcher : https://stackoverflow.com/questions/17388213/find-the-similarity-metric-between-two-strings"
   ]
  },
  {
   "cell_type": "code",
   "execution_count": 1,
   "metadata": {},
   "outputs": [
    {
     "name": "stdout",
     "output_type": "stream",
     "text": [
      "Matplotlib : 3.0.1\n",
      "Numpy      : 1.15.4\n"
     ]
    }
   ],
   "source": [
    "import os\n",
    "import numpy as np\n",
    "import json\n",
    "import matplotlib as mpl\n",
    "import matplotlib.pyplot as plt\n",
    "\n",
    "from levensthein import levensthein\n",
    "from random_generator import random_word_generator, random_number_generator\n",
    "from difflib import SequenceMatcher\n",
    "\n",
    "print('Matplotlib : {}'.format(mpl.__version__))\n",
    "print('Numpy      : {}'.format(np.__version__))"
   ]
  },
  {
   "cell_type": "markdown",
   "metadata": {},
   "source": [
    "## 1. Import Data Filename"
   ]
  },
  {
   "cell_type": "code",
   "execution_count": 2,
   "metadata": {},
   "outputs": [],
   "source": [
    "DIR_IMAGE = 'image_plate_benchmark/image_bbox/'\n",
    "\n",
    "data_filename = os.listdir(DIR_IMAGE)"
   ]
  },
  {
   "cell_type": "markdown",
   "metadata": {},
   "source": [
    "## 2. Levensthein Distance"
   ]
  },
  {
   "cell_type": "code",
   "execution_count": 57,
   "metadata": {},
   "outputs": [],
   "source": [
    "def summary_levensthein(key, data_filename, original_key):\n",
    "    lev_dist = []\n",
    "    for i, target_name in enumerate(data_filename):\n",
    "        lev_dist.append([i, levensthein(key, target_name[:-4])])\n",
    "    print('='*50)\n",
    "    print('key          : {}'.format(key))\n",
    "    print('Original key : {} \\n'.format(original_key))\n",
    "    \n",
    "    lev_dist.sort(key=(lambda x : x[1]))\n",
    "    \n",
    "    lev_dist = np.array(lev_dist)\n",
    "    lev_dist[:,1] = 100 - ((lev_dist[:,1] - min(lev_dist[:,1]))*100/( max(lev_dist[:,1]) - min(lev_dist[:,1]) ))\n",
    "\n",
    "    print('='*20 + ' Result ' + '='*20)\n",
    "    for i in range(4):\n",
    "        loc = int(lev_dist[i,0])\n",
    "        score = lev_dist[i,1]\n",
    "        name = data_filename[loc]\n",
    "        print('score : {:7.4f} %  ID : {:4d}     plat : {}'.format(score, loc, name[:-4]))\n",
    "    print('='*20 + ' Finish ' + '='*20 + 3*'\\n')"
   ]
  },
  {
   "cell_type": "markdown",
   "metadata": {},
   "source": [
    "### 2.1. Using Word Reduction (0 until 3 word)"
   ]
  },
  {
   "cell_type": "code",
   "execution_count": 58,
   "metadata": {},
   "outputs": [
    {
     "name": "stdout",
     "output_type": "stream",
     "text": [
      "                    REDUCTION 0 WORD                     \n",
      "==================================================\n",
      "key          : B4838SCN\n",
      "Original key : B4838SCN \n",
      "\n",
      "==================== Result ====================\n",
      "score : 100.0000 %  ID : 1000     plat : B4838SCN\n",
      "score : 50.0000 %  ID :   26     plat : B1483SLP\n",
      "score : 50.0000 %  ID :   40     plat : B2937SON\n",
      "score : 50.0000 %  ID :  106     plat : B4936SEM\n",
      "==================== Finish ====================\n",
      "\n",
      "\n",
      "\n",
      "                    REDUCTION 1 WORD                     \n",
      "==================================================\n",
      "key          : B4838SC\n",
      "Original key : B4838SCN \n",
      "\n",
      "==================== Result ====================\n",
      "score : 100.0000 %  ID : 1000     plat : B4838SCN\n",
      "score : 57.1429 %  ID :    2     plat : B4913BPC\n",
      "score : 57.1429 %  ID :   26     plat : B1483SLP\n",
      "score : 57.1429 %  ID :   89     plat : B389BSP\n",
      "==================== Finish ====================\n",
      "\n",
      "\n",
      "\n",
      "                    REDUCTION 2 WORD                     \n",
      "==================================================\n",
      "key          : B4838S\n",
      "Original key : B4838SCN \n",
      "\n",
      "==================== Result ====================\n",
      "score : 100.0000 %  ID : 1000     plat : B4838SCN\n",
      "score : 83.3333 %  ID :  430     plat : B6231S\n",
      "score : 83.3333 %  ID :  875     plat : B8381VS\n",
      "score : 66.6667 %  ID :   26     plat : B1483SLP\n",
      "==================== Finish ====================\n",
      "\n",
      "\n",
      "\n",
      "                    REDUCTION 3 WORD                     \n",
      "==================================================\n",
      "key          : B4838\n",
      "Original key : B4838SCN \n",
      "\n",
      "==================== Result ====================\n",
      "score : 100.0000 %  ID :  111     plat : B8GD\n",
      "score : 100.0000 %  ID :  427     plat : B7031\n",
      "score : 100.0000 %  ID :  463     plat : B4186T\n",
      "score : 100.0000 %  ID :  899     plat : B8KN\n",
      "==================== Finish ====================\n",
      "\n",
      "\n",
      "\n"
     ]
    }
   ],
   "source": [
    "num_key = 1000\n",
    "\n",
    "original_name_key = data_filename[num_key][:-4]\n",
    "for i in range(0, 4):\n",
    "    print(' '*20 + 'REDUCTION {} WORD'.format(i), ' '*20)\n",
    "    key = data_filename[num_key][:-4-i]\n",
    "    summary_levensthein(key, data_filename, original_name_key)"
   ]
  },
  {
   "cell_type": "markdown",
   "metadata": {},
   "source": [
    "### 2.2. Using Replacement Random Word (0 until 3 word)"
   ]
  },
  {
   "cell_type": "code",
   "execution_count": 59,
   "metadata": {},
   "outputs": [
    {
     "name": "stdout",
     "output_type": "stream",
     "text": [
      "                    RANDOM 0 WORD                     \n",
      "==================================================\n",
      "key          : B4838SCN\n",
      "Original key : B4838SCN \n",
      "\n",
      "==================== Result ====================\n",
      "score : 100.0000 %  ID : 1000     plat : B4838SCN\n",
      "score : 50.0000 %  ID :   26     plat : B1483SLP\n",
      "score : 50.0000 %  ID :   40     plat : B2937SON\n",
      "score : 50.0000 %  ID :  106     plat : B4936SEM\n",
      "==================== Finish ====================\n",
      "\n",
      "\n",
      "\n",
      "                    RANDOM 1 WORD                     \n",
      "==================================================\n",
      "key          : B4838SCG\n",
      "Original key : B4838SCN \n",
      "\n",
      "==================== Result ====================\n",
      "score : 100.0000 %  ID : 1000     plat : B4838SCN\n",
      "score : 57.1429 %  ID :   20     plat : B1835UAG\n",
      "score : 57.1429 %  ID :   26     plat : B1483SLP\n",
      "score : 57.1429 %  ID :  106     plat : B4936SEM\n",
      "==================== Finish ====================\n",
      "\n",
      "\n",
      "\n",
      "                    RANDOM 2 WORD                     \n",
      "==================================================\n",
      "key          : B4838SFM\n",
      "Original key : B4838SCN \n",
      "\n",
      "==================== Result ====================\n",
      "score : 100.0000 %  ID : 1000     plat : B4838SCN\n",
      "score : 83.3333 %  ID :  106     plat : B4936SEM\n",
      "score : 66.6667 %  ID :   26     plat : B1483SLP\n",
      "score : 66.6667 %  ID :   99     plat : B4383TME\n",
      "==================== Finish ====================\n",
      "\n",
      "\n",
      "\n",
      "                    RANDOM 3 WORD                     \n",
      "==================================================\n",
      "key          : B4838UZP\n",
      "Original key : B4838SCN \n",
      "\n",
      "==================== Result ====================\n",
      "score : 100.0000 %  ID :  610     plat : B1838UYB\n",
      "score : 100.0000 %  ID : 1000     plat : B4838SCN\n",
      "score : 80.0000 %  ID :   20     plat : B1835UAG\n",
      "score : 80.0000 %  ID :   26     plat : B1483SLP\n",
      "==================== Finish ====================\n",
      "\n",
      "\n",
      "\n"
     ]
    }
   ],
   "source": [
    "num_key = 1000\n",
    "\n",
    "# KEY\n",
    "plate = data_filename[num_key][:-4]\n",
    "plate_key = []\n",
    "\n",
    "plate_key.append(plate)\n",
    "plate_key.append(plate[:-1] + random_word_generator())\n",
    "plate_key.append(plate[:-2] + random_word_generator() + random_word_generator())\n",
    "plate_key.append(plate[:-3] + random_word_generator() + random_word_generator() + random_word_generator())\n",
    "\n",
    "original_name_key = data_filename[num_key][:-4]\n",
    "for i, key in enumerate(plate_key):\n",
    "    print(' '*20 + 'RANDOM {} WORD'.format(i), ' '*20)\n",
    "    summary_levensthein(key, data_filename, original_name_key)"
   ]
  },
  {
   "cell_type": "markdown",
   "metadata": {},
   "source": [
    "## 3. Sequence Matcher"
   ]
  },
  {
   "cell_type": "code",
   "execution_count": 6,
   "metadata": {},
   "outputs": [],
   "source": [
    "def sequencematcher(str1, str2):\n",
    "    return SequenceMatcher(None, str1, str2).ratio()"
   ]
  },
  {
   "cell_type": "code",
   "execution_count": 7,
   "metadata": {},
   "outputs": [],
   "source": [
    "def summary_sequencematcher(key, data_filename, original_name_key):\n",
    "    seq_dist = []\n",
    "    for i, target_name in enumerate(data_filename):\n",
    "        seq_dist.append([i, sequencematcher(key, target_name[:-4])])\n",
    "    print('='*50)\n",
    "    print('key          : {}'.format(key))\n",
    "    print('Original key : {} \\n'.format(original_name_key))\n",
    "    \n",
    "    seq_dist.sort(key=(lambda x : x[1]), reverse = True)\n",
    "\n",
    "    print('='*20 + ' Result ' + '='*20)\n",
    "    for i in range(4):\n",
    "        loc = seq_dist[i][0]\n",
    "        score = seq_dist[i][1]\n",
    "        name = data_filename[loc][:-4]\n",
    "        print('score : {:7.4f}    ID : {:4d}    plat : {}'.format(score, loc, name))\n",
    "    print('='*20 + ' Finish ' + '='*20 + 3*'\\n')"
   ]
  },
  {
   "cell_type": "markdown",
   "metadata": {},
   "source": [
    "### 3.1. Using Word Reduction (0 until 4 word)"
   ]
  },
  {
   "cell_type": "code",
   "execution_count": 8,
   "metadata": {},
   "outputs": [
    {
     "name": "stdout",
     "output_type": "stream",
     "text": [
      "                    REDUCTION 0 WORD                     \n",
      "==================================================\n",
      "key          : B4838SCN\n",
      "Original key : B4838SCN \n",
      "\n",
      "==================== Result ====================\n",
      "score :  1.0000    ID : 1000    plat : B4838SCN\n",
      "score :  0.6667    ID :  875    plat : B8381VS\n",
      "score :  0.6250    ID :   26    plat : B1483SLP\n",
      "score :  0.6250    ID :  135    plat : B3598SYC\n",
      "==================== Finish ====================\n",
      "\n",
      "\n",
      "\n",
      "                    REDUCTION 1 WORD                     \n",
      "==================================================\n",
      "key          : B4838SC\n",
      "Original key : B4838SCN \n",
      "\n",
      "==================== Result ====================\n",
      "score :  0.9333    ID : 1000    plat : B4838SCN\n",
      "score :  0.7143    ID :  875    plat : B8381VS\n",
      "score :  0.6667    ID :   26    plat : B1483SLP\n",
      "score :  0.6667    ID :  135    plat : B3598SYC\n",
      "==================== Finish ====================\n",
      "\n",
      "\n",
      "\n",
      "                    REDUCTION 2 WORD                     \n",
      "==================================================\n",
      "key          : B4838S\n",
      "Original key : B4838SCN \n",
      "\n",
      "==================== Result ====================\n",
      "score :  0.8571    ID : 1000    plat : B4838SCN\n",
      "score :  0.7692    ID :  875    plat : B8381VS\n",
      "score :  0.7143    ID :   26    plat : B1483SLP\n",
      "score :  0.7143    ID :  798    plat : B4368SGJ\n",
      "==================== Finish ====================\n",
      "\n",
      "\n",
      "\n",
      "                    REDUCTION 3 WORD                     \n",
      "==================================================\n",
      "key          : B4838\n",
      "Original key : B4838SCN \n",
      "\n",
      "==================== Result ====================\n",
      "score :  0.7692    ID : 1000    plat : B4838SCN\n",
      "score :  0.6667    ID :  198    plat : B8358RG\n",
      "score :  0.6667    ID :  694    plat : B8328HQ\n",
      "score :  0.6667    ID :  875    plat : B8381VS\n",
      "==================== Finish ====================\n",
      "\n",
      "\n",
      "\n",
      "                    REDUCTION 4 WORD                     \n",
      "==================================================\n",
      "key          : B483\n",
      "Original key : B4838SCN \n",
      "\n",
      "==================== Result ====================\n",
      "score :  0.6667    ID :   26    plat : B1483SLP\n",
      "score :  0.6667    ID :   99    plat : B4383TME\n",
      "score :  0.6667    ID :  476    plat : B4823TGZ\n",
      "score :  0.6667    ID : 1000    plat : B4838SCN\n",
      "==================== Finish ====================\n",
      "\n",
      "\n",
      "\n"
     ]
    }
   ],
   "source": [
    "num_key = 1000\n",
    "\n",
    "original_name_key = data_filename[num_key][:-4]\n",
    "for i in range(0, 5):\n",
    "    print(' '*20 + 'REDUCTION {} WORD'.format(i), ' '*20)\n",
    "    key = data_filename[num_key][:-4-i]\n",
    "    summary_sequencematcher(key, data_filename, original_name_key)"
   ]
  },
  {
   "cell_type": "markdown",
   "metadata": {},
   "source": [
    "### 3.2. Using Replacement Random Word (0 until 4 word)"
   ]
  },
  {
   "cell_type": "code",
   "execution_count": 9,
   "metadata": {},
   "outputs": [
    {
     "name": "stdout",
     "output_type": "stream",
     "text": [
      "                    RANDOM 0 WORD                     \n",
      "==================================================\n",
      "key          : B4838SCN\n",
      "Original key : B4838SCN \n",
      "\n",
      "==================== Result ====================\n",
      "score :  1.0000    ID : 1000    plat : B4838SCN\n",
      "score :  0.6667    ID :  875    plat : B8381VS\n",
      "score :  0.6250    ID :   26    plat : B1483SLP\n",
      "score :  0.6250    ID :  135    plat : B3598SYC\n",
      "==================== Finish ====================\n",
      "\n",
      "\n",
      "\n",
      "                    RANDOM 1 WORD                     \n",
      "==================================================\n",
      "key          : B4838SCO\n",
      "Original key : B4838SCN \n",
      "\n",
      "==================== Result ====================\n",
      "score :  0.8750    ID : 1000    plat : B4838SCN\n",
      "score :  0.7500    ID :  245    plat : B4693SCO\n",
      "score :  0.6667    ID :  875    plat : B8381VS\n",
      "score :  0.6250    ID :   26    plat : B1483SLP\n",
      "==================== Finish ====================\n",
      "\n",
      "\n",
      "\n",
      "                    RANDOM 2 WORD                     \n",
      "==================================================\n",
      "key          : B4838SYO\n",
      "Original key : B4838SCN \n",
      "\n",
      "==================== Result ====================\n",
      "score :  0.7500    ID : 1000    plat : B4838SCN\n",
      "score :  0.6667    ID :  875    plat : B8381VS\n",
      "score :  0.6250    ID :   26    plat : B1483SLP\n",
      "score :  0.6250    ID :  135    plat : B3598SYC\n",
      "==================== Finish ====================\n",
      "\n",
      "\n",
      "\n",
      "                    RANDOM 3 WORD                     \n",
      "==================================================\n",
      "key          : B4838ZXW\n",
      "Original key : B4838SCN \n",
      "\n",
      "==================== Result ====================\n",
      "score :  0.6250    ID :  412    plat : B1838WUA\n",
      "score :  0.6250    ID :  476    plat : B4823TGZ\n",
      "score :  0.6250    ID :  501    plat : B1338PZW\n",
      "score :  0.6250    ID :  872    plat : B2484SZW\n",
      "==================== Finish ====================\n",
      "\n",
      "\n",
      "\n",
      "                    RANDOM 4 WORD                     \n",
      "==================================================\n",
      "key          : B4838WNC\n",
      "Original key : B4838SCN \n",
      "\n",
      "==================== Result ====================\n",
      "score :  0.7500    ID : 1000    plat : B4838SCN\n",
      "score :  0.6250    ID :  412    plat : B1838WUA\n",
      "score :  0.6250    ID :  646    plat : B1438UJN\n",
      "score :  0.5333    ID :  115    plat : B8286NQ\n",
      "==================== Finish ====================\n",
      "\n",
      "\n",
      "\n"
     ]
    }
   ],
   "source": [
    "num_key = 1000\n",
    "\n",
    "# KEY\n",
    "plate = data_filename[num_key][:-4]\n",
    "plate_key = []\n",
    "\n",
    "plate_key.append(plate)\n",
    "plate_key.append(plate[:-1] + random_word_generator())\n",
    "plate_key.append(plate[:-2] + random_word_generator() + random_word_generator())\n",
    "plate_key.append(plate[:-3] + random_word_generator() + random_word_generator() + random_word_generator())\n",
    "plate_key.append(plate[:-4] + random_number_generator() + random_word_generator() + random_word_generator() + random_word_generator())\n",
    "\n",
    "original_name_key = data_filename[num_key][:-4]\n",
    "for i, key in enumerate(plate_key):\n",
    "    print(' '*20 + 'RANDOM {} WORD'.format(i), ' '*20)\n",
    "    summary_sequencematcher(key, data_filename, original_name_key)"
   ]
  },
  {
   "cell_type": "code",
   "execution_count": null,
   "metadata": {},
   "outputs": [],
   "source": []
  }
 ],
 "metadata": {
  "kernelspec": {
   "display_name": "Python 3",
   "language": "python",
   "name": "python3"
  },
  "language_info": {
   "codemirror_mode": {
    "name": "ipython",
    "version": 3
   },
   "file_extension": ".py",
   "mimetype": "text/x-python",
   "name": "python",
   "nbconvert_exporter": "python",
   "pygments_lexer": "ipython3",
   "version": "3.5.2"
  }
 },
 "nbformat": 4,
 "nbformat_minor": 2
}
