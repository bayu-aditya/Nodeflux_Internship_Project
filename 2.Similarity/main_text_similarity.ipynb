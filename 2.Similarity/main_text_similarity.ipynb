{
 "cells": [
  {
   "cell_type": "markdown",
   "metadata": {},
   "source": [
    "# **Benchmark Text Similarity**\n",
    "\n",
    "Author : Bayu Aditya\n",
    "\n",
    "**Source :**\n",
    "\n",
    "1. Levensthein Distance : https://www.cuelogic.com/blog/the-levenshtein-algorithm\n",
    "2. Sequence Matcher : https://stackoverflow.com/questions/17388213/find-the-similarity-metric-between-two-strings"
   ]
  },
  {
   "cell_type": "code",
   "execution_count": 21,
   "metadata": {},
   "outputs": [
    {
     "name": "stdout",
     "output_type": "stream",
     "text": [
      "Matplotlib : 3.0.1\n",
      "Numpy      : 1.15.4\n"
     ]
    }
   ],
   "source": [
    "import os\n",
    "import numpy as np\n",
    "import json\n",
    "import matplotlib as mpl\n",
    "import matplotlib.pyplot as plt\n",
    "from datetime import datetime\n",
    "\n",
    "from levensthein import levensthein\n",
    "from random_generator import random_word_generator, random_number_generator\n",
    "from difflib import SequenceMatcher\n",
    "\n",
    "print('Matplotlib : {}'.format(mpl.__version__))\n",
    "print('Numpy      : {}'.format(np.__version__))"
   ]
  },
  {
   "cell_type": "markdown",
   "metadata": {},
   "source": [
    "## 1. Import Data Filename"
   ]
  },
  {
   "cell_type": "code",
   "execution_count": 2,
   "metadata": {},
   "outputs": [],
   "source": [
    "DIR_IMAGE = 'image_plate_benchmark/image_bbox/'\n",
    "\n",
    "data_filename = os.listdir(DIR_IMAGE)"
   ]
  },
  {
   "cell_type": "markdown",
   "metadata": {},
   "source": [
    "## 2. Levensthein Distance"
   ]
  },
  {
   "cell_type": "code",
   "execution_count": 19,
   "metadata": {},
   "outputs": [],
   "source": [
    "def summary_levensthein(key, data_filename, original_key):\n",
    "    start_time = datetime.now()\n",
    "    lev_dist = []\n",
    "    for i, target_name in enumerate(data_filename):\n",
    "        lev_dist.append([i, levensthein(key, target_name[:-4])])\n",
    "    end_time = datetime.now()\n",
    "    \n",
    "    print('='*50)\n",
    "    print('key          : {}'.format(key))\n",
    "    print('Original key : {}'.format(original_key))\n",
    "    print('Duration     : {}'.format(end_time - start_time))\n",
    "    \n",
    "    lev_dist.sort(key=(lambda x : x[1]))\n",
    "    \n",
    "    lev_dist = np.array(lev_dist)\n",
    "    lev_dist[:,1] = 100 - ((lev_dist[:,1] - min(lev_dist[:,1]))*100/( max(lev_dist[:,1]) - min(lev_dist[:,1]) ))\n",
    "\n",
    "    print('='*20 + ' Result ' + '='*20)\n",
    "    for i in range(4):\n",
    "        loc = int(lev_dist[i,0])\n",
    "        score = lev_dist[i,1]\n",
    "        name = data_filename[loc]\n",
    "        print('score : {:7.4f} %  ID : {:4d}     plat : {}'.format(score, loc, name[:-4]))\n",
    "    print('='*20 + ' Finish ' + '='*20 + 3*'\\n')"
   ]
  },
  {
   "cell_type": "markdown",
   "metadata": {},
   "source": [
    "### 2.1. Using Word Reduction (0 until 3 word)"
   ]
  },
  {
   "cell_type": "markdown",
   "metadata": {},
   "source": [
    "#### 2.1.a. From Right Side"
   ]
  },
  {
   "cell_type": "code",
   "execution_count": 22,
   "metadata": {},
   "outputs": [
    {
     "name": "stdout",
     "output_type": "stream",
     "text": [
      "          REDUCTION 0 WORD (from right side)           \n",
      "==================================================\n",
      "key          : B4838SCN\n",
      "Original key : B4838SCN\n",
      "Duration     : 0:00:00.800154\n",
      "==================== Result ====================\n",
      "score : 100.0000 %  ID : 1000     plat : B4838SCN\n",
      "score : 50.0000 %  ID :   26     plat : B1483SLP\n",
      "score : 50.0000 %  ID :   40     plat : B2937SON\n",
      "score : 50.0000 %  ID :  106     plat : B4936SEM\n",
      "==================== Finish ====================\n",
      "\n",
      "\n",
      "\n",
      "          REDUCTION 1 WORD (from right side)           \n",
      "==================================================\n",
      "key          : B4838SC\n",
      "Original key : B4838SCN\n",
      "Duration     : 0:00:00.629836\n",
      "==================== Result ====================\n",
      "score : 100.0000 %  ID : 1000     plat : B4838SCN\n",
      "score : 57.1429 %  ID :    2     plat : B4913BPC\n",
      "score : 57.1429 %  ID :   26     plat : B1483SLP\n",
      "score : 57.1429 %  ID :   89     plat : B389BSP\n",
      "==================== Finish ====================\n",
      "\n",
      "\n",
      "\n",
      "          REDUCTION 2 WORD (from right side)           \n",
      "==================================================\n",
      "key          : B4838S\n",
      "Original key : B4838SCN\n",
      "Duration     : 0:00:00.551917\n",
      "==================== Result ====================\n",
      "score : 100.0000 %  ID : 1000     plat : B4838SCN\n",
      "score : 83.3333 %  ID :  430     plat : B6231S\n",
      "score : 83.3333 %  ID :  875     plat : B8381VS\n",
      "score : 66.6667 %  ID :   26     plat : B1483SLP\n",
      "==================== Finish ====================\n",
      "\n",
      "\n",
      "\n",
      "          REDUCTION 3 WORD (from right side)           \n",
      "==================================================\n",
      "key          : B4838\n",
      "Original key : B4838SCN\n",
      "Duration     : 0:00:00.451274\n",
      "==================== Result ====================\n",
      "score : 100.0000 %  ID :  111     plat : B8GD\n",
      "score : 100.0000 %  ID :  427     plat : B7031\n",
      "score : 100.0000 %  ID :  463     plat : B4186T\n",
      "score : 100.0000 %  ID :  899     plat : B8KN\n",
      "==================== Finish ====================\n",
      "\n",
      "\n",
      "\n"
     ]
    }
   ],
   "source": [
    "num_key = 1000\n",
    "\n",
    "original_name_key = data_filename[num_key][:-4]\n",
    "for i in range(0, 4):\n",
    "    print(' '*10 + 'REDUCTION {} WORD (from right side)'.format(i), ' '*10)\n",
    "    key = data_filename[num_key][:-4-i]\n",
    "    summary_levensthein(key, data_filename, original_name_key)"
   ]
  },
  {
   "cell_type": "markdown",
   "metadata": {},
   "source": [
    "#### 2.1.b. From Left Side"
   ]
  },
  {
   "cell_type": "code",
   "execution_count": 23,
   "metadata": {},
   "outputs": [
    {
     "name": "stdout",
     "output_type": "stream",
     "text": [
      "          REDUCTION 0 WORD (from left side)           \n",
      "==================================================\n",
      "key          : B4838SCN\n",
      "Original key : B4838SCN\n",
      "Duration     : 0:00:00.751301\n",
      "==================== Result ====================\n",
      "score : 100.0000 %  ID : 1000     plat : B4838SCN\n",
      "score : 50.0000 %  ID :   26     plat : B1483SLP\n",
      "score : 50.0000 %  ID :   40     plat : B2937SON\n",
      "score : 50.0000 %  ID :  106     plat : B4936SEM\n",
      "==================== Finish ====================\n",
      "\n",
      "\n",
      "\n",
      "          REDUCTION 1 WORD (from left side)           \n",
      "==================================================\n",
      "key          : 4838SCN\n",
      "Original key : B4838SCN\n",
      "Duration     : 0:00:00.712576\n",
      "==================== Result ====================\n",
      "score : 100.0000 %  ID : 1000     plat : B4838SCN\n",
      "score : 57.1429 %  ID :  477     plat : B1386CB\n",
      "score : 57.1429 %  ID :  611     plat : B8180CY\n",
      "score : 57.1429 %  ID :  875     plat : B8381VS\n",
      "==================== Finish ====================\n",
      "\n",
      "\n",
      "\n",
      "          REDUCTION 2 WORD (from left side)           \n",
      "==================================================\n",
      "key          : 838SCN\n",
      "Original key : B4838SCN\n",
      "Duration     : 0:00:00.605252\n",
      "==================== Result ====================\n",
      "score : 100.0000 %  ID : 1000     plat : B4838SCN\n",
      "score : 66.6667 %  ID :  477     plat : B1386CB\n",
      "score : 66.6667 %  ID :  611     plat : B8180CY\n",
      "score : 66.6667 %  ID :  875     plat : B8381VS\n",
      "==================== Finish ====================\n",
      "\n",
      "\n",
      "\n",
      "          REDUCTION 3 WORD (from left side)           \n",
      "==================================================\n",
      "key          : 38SCN\n",
      "Original key : B4838SCN\n",
      "Duration     : 0:00:00.474401\n",
      "==================== Result ====================\n",
      "score : 100.0000 %  ID :  899     plat : B8KN\n",
      "score : 100.0000 %  ID : 1000     plat : B4838SCN\n",
      "score : 80.0000 %  ID :  111     plat : B8GD\n",
      "score : 80.0000 %  ID :  179     plat : 3135R\n",
      "==================== Finish ====================\n",
      "\n",
      "\n",
      "\n"
     ]
    }
   ],
   "source": [
    "num_key = 1000\n",
    "\n",
    "original_name_key = data_filename[num_key][:-4]\n",
    "for i in range(0, 4):\n",
    "    print(' '*10 + 'REDUCTION {} WORD (from left side)'.format(i), ' '*10)\n",
    "    key = data_filename[num_key][i:-4]\n",
    "    summary_levensthein(key, data_filename, original_name_key)"
   ]
  },
  {
   "cell_type": "markdown",
   "metadata": {},
   "source": [
    "### 2.2. Using Replacement Random Word (0 until 3 word)"
   ]
  },
  {
   "cell_type": "markdown",
   "metadata": {},
   "source": [
    "#### 2.2.a. From Right Side"
   ]
  },
  {
   "cell_type": "code",
   "execution_count": 24,
   "metadata": {},
   "outputs": [
    {
     "name": "stdout",
     "output_type": "stream",
     "text": [
      "          RANDOM 0 WORD (from right side)           \n",
      "==================================================\n",
      "key          : B4838SCN\n",
      "Original key : B4838SCN\n",
      "Duration     : 0:00:00.694725\n",
      "==================== Result ====================\n",
      "score : 100.0000 %  ID : 1000     plat : B4838SCN\n",
      "score : 50.0000 %  ID :   26     plat : B1483SLP\n",
      "score : 50.0000 %  ID :   40     plat : B2937SON\n",
      "score : 50.0000 %  ID :  106     plat : B4936SEM\n",
      "==================== Finish ====================\n",
      "\n",
      "\n",
      "\n",
      "          RANDOM 1 WORD (from right side)           \n",
      "==================================================\n",
      "key          : B4838SCT\n",
      "Original key : B4838SCN\n",
      "Duration     : 0:00:00.809448\n",
      "==================== Result ====================\n",
      "score : 100.0000 %  ID : 1000     plat : B4838SCN\n",
      "score : 57.1429 %  ID :   26     plat : B1483SLP\n",
      "score : 57.1429 %  ID :   51     plat : B6825SHT\n",
      "score : 57.1429 %  ID :  106     plat : B4936SEM\n",
      "==================== Finish ====================\n",
      "\n",
      "\n",
      "\n",
      "          RANDOM 2 WORD (from right side)           \n",
      "==================================================\n",
      "key          : B4838SSS\n",
      "Original key : B4838SCN\n",
      "Duration     : 0:00:00.754603\n",
      "==================== Result ====================\n",
      "score : 100.0000 %  ID : 1000     plat : B4838SCN\n",
      "score : 83.3333 %  ID :  875     plat : B8381VS\n",
      "score : 66.6667 %  ID :   26     plat : B1483SLP\n",
      "score : 66.6667 %  ID :  106     plat : B4936SEM\n",
      "==================== Finish ====================\n",
      "\n",
      "\n",
      "\n",
      "          RANDOM 3 WORD (from right side)           \n",
      "==================================================\n",
      "key          : B4838VSM\n",
      "Original key : B4838SCN\n",
      "Duration     : 0:00:00.904185\n",
      "==================== Result ====================\n",
      "score : 100.0000 %  ID :  875     plat : B8381VS\n",
      "score : 100.0000 %  ID : 1000     plat : B4838SCN\n",
      "score : 80.0000 %  ID :   99     plat : B4383TME\n",
      "score : 80.0000 %  ID :  102     plat : B8085PSM\n",
      "==================== Finish ====================\n",
      "\n",
      "\n",
      "\n"
     ]
    }
   ],
   "source": [
    "num_key = 1000\n",
    "\n",
    "# KEY\n",
    "plate = data_filename[num_key][:-4]\n",
    "plate_key_right = []\n",
    "\n",
    "plate_key_right.append(plate)\n",
    "plate_key_right.append(plate[:-1] + random_word_generator())\n",
    "plate_key_right.append(plate[:-2] + random_word_generator() + random_word_generator())\n",
    "plate_key_right.append(plate[:-3] + random_word_generator() + random_word_generator() + random_word_generator())\n",
    "\n",
    "original_name_key = data_filename[num_key][:-4]\n",
    "for i, key in enumerate(plate_key_right):\n",
    "    print(' '*10 + 'RANDOM {} WORD (from right side)'.format(i), ' '*10)\n",
    "    summary_levensthein(key, data_filename, original_name_key)"
   ]
  },
  {
   "cell_type": "markdown",
   "metadata": {},
   "source": [
    "#### 2.2.b. From Left Side"
   ]
  },
  {
   "cell_type": "code",
   "execution_count": 25,
   "metadata": {},
   "outputs": [
    {
     "name": "stdout",
     "output_type": "stream",
     "text": [
      "          RANDOM 0 WORD (from left side)           \n",
      "==================================================\n",
      "key          : B4838SCN\n",
      "Original key : B4838SCN\n",
      "Duration     : 0:00:00.703663\n",
      "==================== Result ====================\n",
      "score : 100.0000 %  ID : 1000     plat : B4838SCN\n",
      "score : 50.0000 %  ID :   26     plat : B1483SLP\n",
      "score : 50.0000 %  ID :   40     plat : B2937SON\n",
      "score : 50.0000 %  ID :  106     plat : B4936SEM\n",
      "==================== Finish ====================\n",
      "\n",
      "\n",
      "\n",
      "          RANDOM 1 WORD (from left side)           \n",
      "==================================================\n",
      "key          : P4838SCN\n",
      "Original key : B4838SCN\n",
      "Duration     : 0:00:00.746149\n",
      "==================== Result ====================\n",
      "score : 100.0000 %  ID : 1000     plat : B4838SCN\n",
      "score : 42.8571 %  ID :   26     plat : B1483SLP\n",
      "score : 42.8571 %  ID :   40     plat : B2937SON\n",
      "score : 42.8571 %  ID :  106     plat : B4936SEM\n",
      "==================== Finish ====================\n",
      "\n",
      "\n",
      "\n",
      "          RANDOM 2 WORD (from left side)           \n",
      "==================================================\n",
      "key          : EZ838SCN\n",
      "Original key : B4838SCN\n",
      "Duration     : 0:00:00.735755\n",
      "==================== Result ====================\n",
      "score : 100.0000 %  ID : 1000     plat : B4838SCN\n",
      "score : 50.0000 %  ID :   40     plat : B2937SON\n",
      "score : 50.0000 %  ID :  143     plat : B688RCH\n",
      "score : 50.0000 %  ID :  412     plat : B1838WUA\n",
      "==================== Finish ====================\n",
      "\n",
      "\n",
      "\n",
      "          RANDOM 3 WORD (from left side)           \n",
      "==================================================\n",
      "key          : AH238SCN\n",
      "Original key : B4838SCN\n",
      "Duration     : 0:00:00.728360\n",
      "==================== Result ====================\n",
      "score : 100.0000 %  ID : 1000     plat : B4838SCN\n",
      "score : 60.0000 %  ID :   40     plat : B2937SON\n",
      "score : 60.0000 %  ID :  146     plat : B2238UQ\n",
      "score : 60.0000 %  ID :  154     plat : B2238FE\n",
      "==================== Finish ====================\n",
      "\n",
      "\n",
      "\n"
     ]
    }
   ],
   "source": [
    "num_key = 1000\n",
    "\n",
    "# KEY\n",
    "plate = data_filename[num_key][:-4]\n",
    "plate_key_left = []\n",
    "\n",
    "plate_key_left.append(plate)\n",
    "plate_key_left.append(random_word_generator() + plate[1:])\n",
    "plate_key_left.append(random_word_generator() + random_word_generator() + plate[2:])\n",
    "plate_key_left.append(random_word_generator() + random_word_generator() + str(np.random.randint(0, 9)) + plate[3:])\n",
    "\n",
    "original_name_key = data_filename[num_key][:-4]\n",
    "for i, key in enumerate(plate_key_left):\n",
    "    print(' '*10 + 'RANDOM {} WORD (from left side)'.format(i), ' '*10)\n",
    "    summary_levensthein(key, data_filename, original_name_key)"
   ]
  },
  {
   "cell_type": "markdown",
   "metadata": {},
   "source": [
    "## 3. Sequence Matcher"
   ]
  },
  {
   "cell_type": "code",
   "execution_count": 26,
   "metadata": {},
   "outputs": [],
   "source": [
    "def sequencematcher(str1, str2):\n",
    "    return SequenceMatcher(None, str1, str2).ratio()"
   ]
  },
  {
   "cell_type": "code",
   "execution_count": 27,
   "metadata": {},
   "outputs": [],
   "source": [
    "def summary_sequencematcher(key, data_filename, original_name_key):\n",
    "    start_time = datetime.now()\n",
    "    seq_dist = []\n",
    "    for i, target_name in enumerate(data_filename):\n",
    "        seq_dist.append([i, sequencematcher(key, target_name[:-4])])\n",
    "    end_time = datetime.now()\n",
    "    print('='*50)\n",
    "    print('key          : {}'.format(key))\n",
    "    print('Original key : {}'.format(original_name_key))\n",
    "    print('Duration     : {}'.format(end_time - start_time))\n",
    "    \n",
    "    seq_dist.sort(key=(lambda x : x[1]), reverse = True)\n",
    "    \n",
    "    seq_dist = np.array(seq_dist)\n",
    "    seq_dist[:,1] = ((seq_dist[:,1] - min(seq_dist[:,1]))*100/( max(seq_dist[:,1]) - min(seq_dist[:,1]) ))\n",
    "\n",
    "    print('='*22 + ' Result ' + '='*22)\n",
    "    for i in range(4):\n",
    "        loc = int(seq_dist[i][0])\n",
    "        score = seq_dist[i][1]\n",
    "        name = data_filename[loc][:-4]\n",
    "        print('score : {:7.4f} %    ID : {:4d}    plat : {}'.format(score, loc, name))\n",
    "    print('='*22 + ' Finish ' + '='*22 + 3*'\\n')"
   ]
  },
  {
   "cell_type": "markdown",
   "metadata": {},
   "source": [
    "### 3.1. Using Word Reduction (0 until 4 word)"
   ]
  },
  {
   "cell_type": "markdown",
   "metadata": {},
   "source": [
    "#### 3.1.a. From Right Side"
   ]
  },
  {
   "cell_type": "code",
   "execution_count": 28,
   "metadata": {},
   "outputs": [
    {
     "name": "stdout",
     "output_type": "stream",
     "text": [
      "          REDUCTION 0 WORD (from right side)           \n",
      "==================================================\n",
      "key          : B4838SCN\n",
      "Original key : B4838SCN\n",
      "Duration     : 0:00:00.063074\n",
      "====================== Result ======================\n",
      "score : 100.0000 %    ID : 1000    plat : B4838SCN\n",
      "score : 66.6667 %    ID :  875    plat : B8381VS\n",
      "score : 62.5000 %    ID :   26    plat : B1483SLP\n",
      "score : 62.5000 %    ID :  135    plat : B3598SYC\n",
      "====================== Finish ======================\n",
      "\n",
      "\n",
      "\n",
      "          REDUCTION 1 WORD (from right side)           \n",
      "==================================================\n",
      "key          : B4838SC\n",
      "Original key : B4838SCN\n",
      "Duration     : 0:00:00.037645\n",
      "====================== Result ======================\n",
      "score : 100.0000 %    ID : 1000    plat : B4838SCN\n",
      "score : 76.5306 %    ID :  875    plat : B8381VS\n",
      "score : 71.4286 %    ID :   26    plat : B1483SLP\n",
      "score : 71.4286 %    ID :  135    plat : B3598SYC\n",
      "====================== Finish ======================\n",
      "\n",
      "\n",
      "\n",
      "          REDUCTION 2 WORD (from right side)           \n",
      "==================================================\n",
      "key          : B4838S\n",
      "Original key : B4838SCN\n",
      "Duration     : 0:00:00.031159\n",
      "====================== Result ======================\n",
      "score : 100.0000 %    ID : 1000    plat : B4838SCN\n",
      "score : 89.7436 %    ID :  875    plat : B8381VS\n",
      "score : 83.3333 %    ID :   26    plat : B1483SLP\n",
      "score : 83.3333 %    ID :  798    plat : B4368SGJ\n",
      "====================== Finish ======================\n",
      "\n",
      "\n",
      "\n",
      "          REDUCTION 3 WORD (from right side)           \n",
      "==================================================\n",
      "key          : B4838\n",
      "Original key : B4838SCN\n",
      "Duration     : 0:00:00.031960\n",
      "====================== Result ======================\n",
      "score : 100.0000 %    ID : 1000    plat : B4838SCN\n",
      "score : 86.6667 %    ID :  198    plat : B8358RG\n",
      "score : 86.6667 %    ID :  694    plat : B8328HQ\n",
      "score : 86.6667 %    ID :  875    plat : B8381VS\n",
      "====================== Finish ======================\n",
      "\n",
      "\n",
      "\n"
     ]
    }
   ],
   "source": [
    "num_key = 1000\n",
    "\n",
    "original_name_key = data_filename[num_key][:-4]\n",
    "for i in range(0, 4):\n",
    "    print(' '*10 + 'REDUCTION {} WORD (from right side)'.format(i), ' '*10)\n",
    "    key = data_filename[num_key][:-4-i]\n",
    "    summary_sequencematcher(key, data_filename, original_name_key)"
   ]
  },
  {
   "cell_type": "markdown",
   "metadata": {},
   "source": [
    "#### 3.1.b. From Left Side"
   ]
  },
  {
   "cell_type": "code",
   "execution_count": 29,
   "metadata": {},
   "outputs": [
    {
     "name": "stdout",
     "output_type": "stream",
     "text": [
      "          REDUCTION 0 WORD (from left side)           \n",
      "==================================================\n",
      "key          : B4838SCN\n",
      "Original key : B4838SCN\n",
      "Duration     : 0:00:00.071425\n",
      "====================== Result ======================\n",
      "score : 100.0000 %    ID : 1000    plat : B4838SCN\n",
      "score : 66.6667 %    ID :  875    plat : B8381VS\n",
      "score : 62.5000 %    ID :   26    plat : B1483SLP\n",
      "score : 62.5000 %    ID :  135    plat : B3598SYC\n",
      "====================== Finish ======================\n",
      "\n",
      "\n",
      "\n",
      "          REDUCTION 1 WORD (from left side)           \n",
      "==================================================\n",
      "key          : 4838SCN\n",
      "Original key : B4838SCN\n",
      "Duration     : 0:00:00.032850\n",
      "====================== Result ======================\n",
      "score : 100.0000 %    ID : 1000    plat : B4838SCN\n",
      "score : 61.2245 %    ID :  875    plat : B8381VS\n",
      "score : 57.1429 %    ID :   26    plat : B1483SLP\n",
      "score : 57.1429 %    ID :  135    plat : B3598SYC\n",
      "====================== Finish ======================\n",
      "\n",
      "\n",
      "\n",
      "          REDUCTION 2 WORD (from left side)           \n",
      "==================================================\n",
      "key          : 838SCN\n",
      "Original key : B4838SCN\n",
      "Duration     : 0:00:00.029397\n",
      "====================== Result ======================\n",
      "score : 100.0000 %    ID : 1000    plat : B4838SCN\n",
      "score : 71.7949 %    ID :  875    plat : B8381VS\n",
      "score : 66.6667 %    ID :  135    plat : B3598SYC\n",
      "score : 53.8462 %    ID :   89    plat : B389BSP\n",
      "====================== Finish ======================\n",
      "\n",
      "\n",
      "\n",
      "          REDUCTION 3 WORD (from left side)           \n",
      "==================================================\n",
      "key          : 38SCN\n",
      "Original key : B4838SCN\n",
      "Duration     : 0:00:00.023243\n",
      "====================== Result ======================\n",
      "score : 100.0000 %    ID : 1000    plat : B4838SCN\n",
      "score : 80.0000 %    ID :  135    plat : B3598SYC\n",
      "score : 65.0000 %    ID :   89    plat : B389BSP\n",
      "score : 65.0000 %    ID :  315    plat : B308NFI\n",
      "====================== Finish ======================\n",
      "\n",
      "\n",
      "\n"
     ]
    }
   ],
   "source": [
    "num_key = 1000\n",
    "\n",
    "original_name_key = data_filename[num_key][:-4]\n",
    "for i in range(0, 4):\n",
    "    print(' '*10 + 'REDUCTION {} WORD (from left side)'.format(i), ' '*10)\n",
    "    key = data_filename[num_key][i:-4]\n",
    "    summary_sequencematcher(key, data_filename, original_name_key)"
   ]
  },
  {
   "cell_type": "markdown",
   "metadata": {},
   "source": [
    "### 3.2. Using Replacement Random Word (0 until 4 word)"
   ]
  },
  {
   "cell_type": "markdown",
   "metadata": {},
   "source": [
    "#### 3.2.a. From Right Side"
   ]
  },
  {
   "cell_type": "code",
   "execution_count": 30,
   "metadata": {},
   "outputs": [
    {
     "name": "stdout",
     "output_type": "stream",
     "text": [
      "          RANDOM 0 WORD (from right side)           \n",
      "==================================================\n",
      "key          : B4838SCN\n",
      "Original key : B4838SCN\n",
      "Duration     : 0:00:00.042819\n",
      "====================== Result ======================\n",
      "score : 100.0000 %    ID : 1000    plat : B4838SCN\n",
      "score : 66.6667 %    ID :  875    plat : B8381VS\n",
      "score : 62.5000 %    ID :   26    plat : B1483SLP\n",
      "score : 62.5000 %    ID :  135    plat : B3598SYC\n",
      "====================== Finish ======================\n",
      "\n",
      "\n",
      "\n",
      "          RANDOM 1 WORD (from right side)           \n",
      "==================================================\n",
      "key          : B4838SCT\n",
      "Original key : B4838SCN\n",
      "Duration     : 0:00:00.040803\n",
      "====================== Result ======================\n",
      "score : 100.0000 %    ID : 1000    plat : B4838SCN\n",
      "score : 76.1905 %    ID :  875    plat : B8381VS\n",
      "score : 71.4286 %    ID :   26    plat : B1483SLP\n",
      "score : 71.4286 %    ID :   99    plat : B4383TME\n",
      "====================== Finish ======================\n",
      "\n",
      "\n",
      "\n",
      "          RANDOM 2 WORD (from right side)           \n",
      "==================================================\n",
      "key          : B4838SSS\n",
      "Original key : B4838SCN\n",
      "Duration     : 0:00:00.041161\n",
      "====================== Result ======================\n",
      "score : 100.0000 %    ID : 1000    plat : B4838SCN\n",
      "score : 88.8889 %    ID :  875    plat : B8381VS\n",
      "score : 83.3333 %    ID :   26    plat : B1483SLP\n",
      "score : 83.3333 %    ID :  798    plat : B4368SGJ\n",
      "====================== Finish ======================\n",
      "\n",
      "\n",
      "\n",
      "          RANDOM 3 WORD (from right side)           \n",
      "==================================================\n",
      "key          : B4838VSM\n",
      "Original key : B4838SCN\n",
      "Duration     : 0:00:00.044383\n",
      "====================== Result ======================\n",
      "score : 100.0000 %    ID :  875    plat : B8381VS\n",
      "score : 93.7500 %    ID : 1000    plat : B4838SCN\n",
      "score : 78.1250 %    ID :   26    plat : B1483SLP\n",
      "score : 78.1250 %    ID :   99    plat : B4383TME\n",
      "====================== Finish ======================\n",
      "\n",
      "\n",
      "\n"
     ]
    }
   ],
   "source": [
    "num_key = 1000\n",
    "\n",
    "# KEY\n",
    "#plate = data_filename[num_key][:-4]\n",
    "#plate_key = []\n",
    "\n",
    "#plate_key.append(plate)\n",
    "#plate_key.append(plate[:-1] + random_word_generator())\n",
    "#plate_key.append(plate[:-2] + random_word_generator() + random_word_generator())\n",
    "#plate_key.append(plate[:-3] + random_word_generator() + random_word_generator() + random_word_generator())\n",
    "#plate_key.append(plate[:-4] + random_number_generator() + random_word_generator() + random_word_generator() + random_word_generator())\n",
    "\n",
    "original_name_key = data_filename[num_key][:-4]\n",
    "for i, key in enumerate(plate_key_right):\n",
    "    print(' '*10 + 'RANDOM {} WORD (from right side)'.format(i), ' '*10)\n",
    "    summary_sequencematcher(key, data_filename, original_name_key)"
   ]
  },
  {
   "cell_type": "markdown",
   "metadata": {},
   "source": [
    "#### 3.2.b. From Left Side"
   ]
  },
  {
   "cell_type": "code",
   "execution_count": 31,
   "metadata": {},
   "outputs": [
    {
     "name": "stdout",
     "output_type": "stream",
     "text": [
      "          RANDOM 0 WORD (from left side)           \n",
      "==================================================\n",
      "key          : B4838SCN\n",
      "Original key : B4838SCN\n",
      "Duration     : 0:00:00.069168\n",
      "====================== Result ======================\n",
      "score : 100.0000 %    ID : 1000    plat : B4838SCN\n",
      "score : 66.6667 %    ID :  875    plat : B8381VS\n",
      "score : 62.5000 %    ID :   26    plat : B1483SLP\n",
      "score : 62.5000 %    ID :  135    plat : B3598SYC\n",
      "====================== Finish ======================\n",
      "\n",
      "\n",
      "\n",
      "          RANDOM 1 WORD (from left side)           \n",
      "==================================================\n",
      "key          : P4838SCN\n",
      "Original key : B4838SCN\n",
      "Duration     : 0:00:00.037677\n",
      "====================== Result ======================\n",
      "score : 100.0000 %    ID : 1000    plat : B4838SCN\n",
      "score : 60.9524 %    ID :  875    plat : B8381VS\n",
      "score : 57.1429 %    ID :   26    plat : B1483SLP\n",
      "score : 57.1429 %    ID :  135    plat : B3598SYC\n",
      "====================== Finish ======================\n",
      "\n",
      "\n",
      "\n",
      "          RANDOM 2 WORD (from left side)           \n",
      "==================================================\n",
      "key          : EZ838SCN\n",
      "Original key : B4838SCN\n",
      "Duration     : 0:00:00.030872\n",
      "====================== Result ======================\n",
      "score : 100.0000 %    ID : 1000    plat : B4838SCN\n",
      "score : 71.1111 %    ID :  875    plat : B8381VS\n",
      "score : 66.6667 %    ID :  135    plat : B3598SYC\n",
      "score : 53.3333 %    ID :   89    plat : B389BSP\n",
      "====================== Finish ======================\n",
      "\n",
      "\n",
      "\n",
      "          RANDOM 3 WORD (from left side)           \n",
      "==================================================\n",
      "key          : AH238SCN\n",
      "Original key : B4838SCN\n",
      "Duration     : 0:00:00.028817\n",
      "====================== Result ======================\n",
      "score : 100.0000 %    ID : 1000    plat : B4838SCN\n",
      "score : 80.0000 %    ID :   40    plat : B2937SON\n",
      "score : 80.0000 %    ID :  135    plat : B3598SYC\n",
      "score : 80.0000 %    ID :  575    plat : B2780SON\n",
      "====================== Finish ======================\n",
      "\n",
      "\n",
      "\n"
     ]
    }
   ],
   "source": [
    "num_key = 1000\n",
    "\n",
    "# KEY\n",
    "#plate = data_filename[num_key][:-4]\n",
    "#plate_key_left = []\n",
    "\n",
    "#plate_key_left.append(plate)\n",
    "#plate_key_left.append(random_word_generator() + plate[1:])\n",
    "#plate_key_left.append(random_word_generator() + random_word_generator() + plate[2:])\n",
    "#plate_key_left.append(random_word_generator() + random_word_generator() + str(np.random.randint(0, 9)) + plate[3:])\n",
    "\n",
    "original_name_key = data_filename[num_key][:-4]\n",
    "for i, key in enumerate(plate_key_left):\n",
    "    print(' '*10 + 'RANDOM {} WORD (from left side)'.format(i), ' '*10)\n",
    "    summary_sequencematcher(key, data_filename, original_name_key)"
   ]
  }
 ],
 "metadata": {
  "kernelspec": {
   "display_name": "Python 3",
   "language": "python",
   "name": "python3"
  },
  "language_info": {
   "codemirror_mode": {
    "name": "ipython",
    "version": 3
   },
   "file_extension": ".py",
   "mimetype": "text/x-python",
   "name": "python",
   "nbconvert_exporter": "python",
   "pygments_lexer": "ipython3",
   "version": "3.5.2"
  }
 },
 "nbformat": 4,
 "nbformat_minor": 2
}
